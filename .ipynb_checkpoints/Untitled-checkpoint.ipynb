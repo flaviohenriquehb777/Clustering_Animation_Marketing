{
 "cells": [
  {
   "cell_type": "code",
   "execution_count": 65,
   "id": "362e91d3-a808-4ee4-aff2-51c02aafc4d1",
   "metadata": {},
   "outputs": [],
   "source": [
    "import matplotlib.pyplot as plt\n",
    "import matplotlib.animation as animation\n",
    "from sklearn.cluster import KMeans\n",
    "from matplotlib.patches import Patch\n",
    "import matplotlib.cm as cm\n",
    "import warnings\n",
    "import numpy as np\n",
    "\n",
    "warnings.filterwarnings('ignore')\n",
    "\n",
    "# Gerando dados sintéticos para representar clientes\n",
    "np.random.seed(42)\n",
    "X = np.vstack([\n",
    "    np.random.normal(loc=[3, 3], scale=1, size=(50, 2)),\n",
    "    np.random.normal(loc=[8, 8], scale=1, size=(50, 2)),\n",
    "    np.random.normal(loc=[3, 8], scale=1, size=(50, 2)),\n",
    "    np.random.normal(loc=[8, 3], scale=1, size=(50, 2))\n",
    "])\n",
    "\n",
    "# Configurando K-Means para agrupar os clientes\n",
    "kmeans = KMeans(n_clusters=4, random_state=42, n_init=10)\n",
    "kmeans.fit(X)\n",
    "labels = kmeans.labels_\n",
    "centers = kmeans.cluster_centers_\n",
    "\n",
    "# Definição das legendas para os clusters\n",
    "cluster_labels = [\"client_sport\", \"client_toys\", \"client_clothes\", \"clientes_tech\"]\n",
    "colors = ['purple', 'green', 'orange', 'blue']\n",
    "\n",
    "# Criando a figura e os eixos\n",
    "fig, ax = plt.subplots()\n",
    "\n",
    "# Criando o gráfico inicial\n",
    "scatter = ax.scatter([], [], edgecolor='k')\n",
    "centroides = ax.scatter(centers[:, 0], centers[:, 1], c='red', marker='x', s=200, label='Centroides')\n",
    "\n",
    "# Adicionando a legenda fora do gráfico\n",
    "legend_patches = [Patch(color=colors[i], label=f'{cluster_labels[i]}') for i in range(len(cluster_labels))]\n",
    "ax.legend(handles=legend_patches, loc='upper left', bbox_to_anchor=(1.01, 1), borderaxespad=0.)\n",
    "\n",
    "# Ajustando os limites do gráfico para acomodar a legenda e movendo o gráfico para a esquerda\n",
    "plt.subplots_adjust(right=0.75)\n",
    "ax.set_xlim(-2, 10)  # Ajustando os limites do eixo x para mover os clusters para a esquerda\n",
    "\n",
    "# Função para atualizar a animação\n",
    "def update(frame):\n",
    "    scatter.set_offsets(X[:frame+1])\n",
    "    scatter.set_facecolor([colors[l] for l in labels[:frame+1]])\n",
    "    ax.set_ylim(0, 12)\n",
    "    ax.set_title(\"Segmentação de Clientes para Marketing\")\n",
    "\n",
    "# Criando a animação\n",
    "ani = animation.FuncAnimation(fig, update, frames=len(X), interval=100)\n",
    "\n",
    "# Salvando a animação como um vídeo\n",
    "ani.save('animacao_clientes.mp4', writer='ffmpeg')\n",
    "\n",
    "# Removendo o gráfico estático\n",
    "plt.close(fig)"
   ]
  },
  {
   "cell_type": "code",
   "execution_count": 67,
   "id": "3cfc77da-2d91-4a5b-93a5-89b23598f283",
   "metadata": {},
   "outputs": [
    {
     "data": {
      "text/html": [
       "<video src=\"animacao_clientes.mp4\" controls  >\n",
       "      Your browser does not support the <code>video</code> element.\n",
       "    </video>"
      ],
      "text/plain": [
       "<IPython.core.display.Video object>"
      ]
     },
     "execution_count": 67,
     "metadata": {},
     "output_type": "execute_result"
    }
   ],
   "source": [
    "from IPython.display import Video\n",
    "Video('animacao_clientes.mp4')"
   ]
  }
 ],
 "metadata": {
  "kernelspec": {
   "display_name": "Python 3 (ipykernel)",
   "language": "python",
   "name": "python3"
  },
  "language_info": {
   "codemirror_mode": {
    "name": "ipython",
    "version": 3
   },
   "file_extension": ".py",
   "mimetype": "text/x-python",
   "name": "python",
   "nbconvert_exporter": "python",
   "pygments_lexer": "ipython3",
   "version": "3.12.3"
  }
 },
 "nbformat": 4,
 "nbformat_minor": 5
}
